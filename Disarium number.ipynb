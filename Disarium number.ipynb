{
 "cells": [
  {
   "cell_type": "markdown",
   "id": "122c88fe",
   "metadata": {},
   "source": [
    "# Disarium number"
   ]
  },
  {
   "cell_type": "markdown",
   "id": "52749fa1",
   "metadata": {},
   "source": [
    "# # Given a number “n”, find if it is Disarium or not. A number is called Disarium if sum of its digits powered with their respective positions is equal to the number itself.\n"
   ]
  },
  {
   "cell_type": "code",
   "execution_count": 2,
   "id": "d6b163ce",
   "metadata": {},
   "outputs": [
    {
     "name": "stdout",
     "output_type": "stream",
     "text": [
      "enter checked number : 135\n",
      "135 is a disarium number \n"
     ]
    }
   ],
   "source": [
    "# Check given number is Disarium number or not\n",
    "\n",
    "number=int(input('enter checked number : '))\n",
    "dummy=number\n",
    "length=len(str(number))\n",
    "result=0\n",
    "while dummy>0:\n",
    "    rem=dummy%10\n",
    "    result=result+rem**length\n",
    "    dummy//=10\n",
    "    length-=1\n",
    "if result==number:\n",
    "    print(f'{number} is a disarium number ')\n",
    "else:\n",
    "    print('not a disarium number')"
   ]
  },
  {
   "cell_type": "code",
   "execution_count": 3,
   "id": "5fd6620d",
   "metadata": {},
   "outputs": [
    {
     "name": "stdout",
     "output_type": "stream",
     "text": [
      "1\n",
      "2\n",
      "3\n",
      "4\n",
      "5\n",
      "6\n",
      "7\n",
      "8\n",
      "9\n",
      "18\n"
     ]
    }
   ],
   "source": [
    "# first 10 disarium number\n",
    "\n",
    "number=1\n",
    "count=0\n",
    "while True:\n",
    "    dummy=number\n",
    "    lenght=len(str(number))\n",
    "    result=0\n",
    "    while dummy>0:\n",
    "        rem=dummy%10\n",
    "        result=result+rem*lenght\n",
    "        dummy//=10\n",
    "    if result==number:\n",
    "        count+=1\n",
    "        print(number)\n",
    "    if count==10:\n",
    "        break\n",
    "    number+=1"
   ]
  },
  {
   "cell_type": "code",
   "execution_count": 6,
   "id": "7e501467",
   "metadata": {},
   "outputs": [
    {
     "name": "stdout",
     "output_type": "stream",
     "text": [
      "Enter ur perfect_number : 10\n",
      "10 is the disarium number is : 18\n"
     ]
    }
   ],
   "source": [
    "# Perfect Disarium number\n",
    "\n",
    "\n",
    "number=1\n",
    "count=0\n",
    "perfect_number=int(input(\"Enter ur perfect_number : \"))\n",
    "while True:\n",
    "    dummy=number\n",
    "    lenght=len(str(number))\n",
    "    result=0\n",
    "    while dummy>0:\n",
    "        rem=dummy%10\n",
    "        result=result+rem*lenght\n",
    "        dummy//=10\n",
    "    if result==number:\n",
    "        count+=1\n",
    "    if count==perfect_number:\n",
    "        print(f'{perfect_number} is the disarium number is : {number}')\n",
    "        break\n",
    "    number+=1"
   ]
  },
  {
   "cell_type": "code",
   "execution_count": null,
   "id": "ccad8753",
   "metadata": {},
   "outputs": [],
   "source": []
  }
 ],
 "metadata": {
  "kernelspec": {
   "display_name": "Python 3",
   "language": "python",
   "name": "python3"
  },
  "language_info": {
   "codemirror_mode": {
    "name": "ipython",
    "version": 3
   },
   "file_extension": ".py",
   "mimetype": "text/x-python",
   "name": "python",
   "nbconvert_exporter": "python",
   "pygments_lexer": "ipython3",
   "version": "3.8.8"
  }
 },
 "nbformat": 4,
 "nbformat_minor": 5
}
