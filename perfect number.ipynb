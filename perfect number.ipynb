{
 "cells": [
  {
   "cell_type": "markdown",
   "id": "674deeaf",
   "metadata": {},
   "source": [
    "# perfect number"
   ]
  },
  {
   "cell_type": "markdown",
   "id": "aa999879",
   "metadata": {},
   "source": [
    "##  a perfect number is a positive integer that is equal to the sum of its positive divisors, excluding the number itself. For instance, 6 has divisors 1, 2 and 3 (excluding itself), and 1 + 2 + 3 = 6, so 6 is a perfect number."
   ]
  },
  {
   "cell_type": "code",
   "execution_count": 3,
   "id": "13d6b9c0",
   "metadata": {},
   "outputs": [
    {
     "name": "stdout",
     "output_type": "stream",
     "text": [
      "enter ur number : 6\n",
      "6 is a perfect number \n"
     ]
    }
   ],
   "source": [
    "# check given number is perfect number or not\n",
    "\n",
    "number=int(input(\"enter ur number : \"))\n",
    "fact=1\n",
    "for i in range(2,number//2+1):\n",
    "    if number%i==0:\n",
    "        fact+=i\n",
    "if fact==number:\n",
    "    print(f'{number} is a perfect number ')\n",
    "else:\n",
    "    print('not a perfect number')"
   ]
  },
  {
   "cell_type": "code",
   "execution_count": null,
   "id": "245f5432",
   "metadata": {},
   "outputs": [
    {
     "name": "stdout",
     "output_type": "stream",
     "text": [
      "1\n",
      "6\n",
      "28\n",
      "496\n",
      "8128\n"
     ]
    }
   ],
   "source": [
    "# first 10 perfect numbers \n",
    "\n",
    "number=1\n",
    "count=0\n",
    "while True:\n",
    "    fact=1\n",
    "    for i in range(2,number//2+1):\n",
    "        if number%i==0:\n",
    "            fact+=i\n",
    "    if fact==number:\n",
    "        count+=1\n",
    "        print(number)\n",
    "    if count==10:\n",
    "        break\n",
    "    number+=1\n"
   ]
  },
  {
   "cell_type": "code",
   "execution_count": null,
   "id": "50bb0e2b",
   "metadata": {},
   "outputs": [],
   "source": []
  }
 ],
 "metadata": {
  "kernelspec": {
   "display_name": "Python 3",
   "language": "python",
   "name": "python3"
  },
  "language_info": {
   "codemirror_mode": {
    "name": "ipython",
    "version": 3
   },
   "file_extension": ".py",
   "mimetype": "text/x-python",
   "name": "python",
   "nbconvert_exporter": "python",
   "pygments_lexer": "ipython3",
   "version": "3.8.8"
  }
 },
 "nbformat": 4,
 "nbformat_minor": 5
}
